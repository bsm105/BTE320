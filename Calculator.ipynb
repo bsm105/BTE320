{
  "nbformat": 4,
  "nbformat_minor": 0,
  "metadata": {
    "colab": {
      "provenance": [],
      "authorship_tag": "ABX9TyO7vB7LCtqGCqBZKYwUL33U",
      "include_colab_link": true
    },
    "kernelspec": {
      "name": "python3",
      "display_name": "Python 3"
    },
    "language_info": {
      "name": "python"
    }
  },
  "cells": [
    {
      "cell_type": "markdown",
      "metadata": {
        "id": "view-in-github",
        "colab_type": "text"
      },
      "source": [
        "<a href=\"https://colab.research.google.com/github/bsm105/BTE320/blob/main/Calculator.ipynb\" target=\"_parent\"><img src=\"https://colab.research.google.com/assets/colab-badge.svg\" alt=\"Open In Colab\"/></a>"
      ]
    },
    {
      "cell_type": "code",
      "execution_count": 31,
      "metadata": {
        "colab": {
          "base_uri": "https://localhost:8080/"
        },
        "id": "84xv_5N_lVfC",
        "outputId": "9b4aaa7c-3f21-4d1c-ea1d-4947969bd09b"
      },
      "outputs": [
        {
          "output_type": "stream",
          "name": "stdout",
          "text": [
            "enter a non-operator as the operator to quit\n",
            "enter the first number: 1\n",
            "enter the operator: +\n",
            "enter the second number: 100\n",
            "101.0\n",
            "enter a non-operator as the operator to quit\n",
            "enter the first number: 1\n",
            "enter the operator: b\n",
            "enter the second number: 2\n",
            "error (not a valid operator)\n"
          ]
        }
      ],
      "source": [
        "while True:\n",
        "  print(\"enter a non-operator as the operator to quit\")\n",
        "  n1 = float(input('enter the first number: '))\n",
        "  operation = str(input('enter the operator: '))\n",
        "  n2 = float(input('enter the second number: '))\n",
        "  if operation == \"+\":\n",
        "    print(n1 + n2)\n",
        "  elif operation == \"-\":\n",
        "    print(n1 - n2)\n",
        "  elif operation == \"*\":\n",
        "    print(n1 * n2)\n",
        "  elif operation == \"**\":\n",
        "    print(n1 ** n2)\n",
        "  elif operation == \"/\":\n",
        "    print(n1 / n2)\n",
        "  elif operation == \"//\":\n",
        "    print(n1 // n2)\n",
        "  elif operation == \"%\":\n",
        "    print(n1 % n2)\n",
        "  else:\n",
        "    print('error (not a valid operator)')\n",
        "    break\n"
      ]
    },
    {
      "cell_type": "code",
      "source": [
        "while True:\n",
        "  print(\"enter a break as the operator to quit\")\n",
        "  operator = str(input('enter mathematical operator: '))\n",
        "\n",
        "  if operator == 'break':\n",
        "    break\n",
        "\n",
        "  num1 = float(input('enter the first number: '))\n",
        "  num2 = float(input('enter the second number: '))\n",
        "\n",
        "  if operation == \"+\":\n",
        "    print(f'{num1} + {num2} = {num1 + num2}')\n",
        "  elif operation == \"-\":\n",
        "    print(f'{num1} - {num2} = {num1 - num2}')\n",
        "  elif operation == \"*\":\n",
        "    print(f'{num1} * {num2} = {num1 * num2}')\n",
        "  elif operation == \"**\":\n",
        "    print(f'{num1} ** {num2} = {num1 ** num2}')\n",
        "  elif operation == \"/\":\n",
        "    print(f'{num1} / {num2} = {num1 / num2}')\n",
        "  elif operation == \"//\":\n",
        "    print(f'{num1} // {num2} = {num1 // num2}')\n",
        "  elif operation == \"%\":\n",
        "    print(f'{num1} % {num2} = {int(num1) % int(num2)}')\n",
        "\n",
        "  else:\n",
        "    print('ERROR! NOT A VALID OPERATOR')\n",
        "\n",
        "\n",
        "\n",
        ""
      ],
      "metadata": {
        "colab": {
          "base_uri": "https://localhost:8080/"
        },
        "id": "7EUlVQt4unq0",
        "outputId": "b1bd9fac-923e-4c67-a359-b4080258db56"
      },
      "execution_count": 30,
      "outputs": [
        {
          "name": "stdout",
          "output_type": "stream",
          "text": [
            "enter a break as the operator to quit\n",
            "enter mathematical operator: break\n"
          ]
        }
      ]
    }
  ]
}