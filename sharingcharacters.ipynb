{
  "nbformat": 4,
  "nbformat_minor": 0,
  "metadata": {
    "colab": {
      "provenance": [],
      "authorship_tag": "ABX9TyNwjTDNqFVtB5M86q1wd8aP",
      "include_colab_link": true
    },
    "kernelspec": {
      "name": "python3",
      "display_name": "Python 3"
    },
    "language_info": {
      "name": "python"
    }
  },
  "cells": [
    {
      "cell_type": "markdown",
      "metadata": {
        "id": "view-in-github",
        "colab_type": "text"
      },
      "source": [
        "<a href=\"https://colab.research.google.com/github/bsm105/BTE320/blob/main/sharingcharacters.ipynb\" target=\"_parent\"><img src=\"https://colab.research.google.com/assets/colab-badge.svg\" alt=\"Open In Colab\"/></a>"
      ]
    },
    {
      "cell_type": "code",
      "execution_count": 28,
      "metadata": {
        "colab": {
          "base_uri": "https://localhost:8080/"
        },
        "id": "0oOJBwR0-xrK",
        "outputId": "73c33a6c-7ebf-4fb9-dc01-1c4a9218aedb"
      },
      "outputs": [
        {
          "output_type": "stream",
          "name": "stdout",
          "text": [
            "a\n",
            "b\n",
            "d\n",
            "g\n",
            "t\n"
          ]
        }
      ],
      "source": [
        "s1 = 'abcdegt'\n",
        "s2 = 'abdhgt'\n",
        "for c in s1 and s2:\n",
        "  if (c in s1) == (c in s2):\n",
        "    print(c)"
      ]
    },
    {
      "cell_type": "code",
      "source": [
        "s1 = 'abcdegt'\n",
        "s2 = 'abdhgt'\n",
        "for c in s1:\n",
        "  if c in s2:\n",
        "    print(c)"
      ],
      "metadata": {
        "colab": {
          "base_uri": "https://localhost:8080/"
        },
        "id": "oZZNd17SEP1r",
        "outputId": "50834892-6927-4cde-a7e4-bc3a534c0047"
      },
      "execution_count": 27,
      "outputs": [
        {
          "output_type": "stream",
          "name": "stdout",
          "text": [
            "a\n",
            "b\n",
            "d\n",
            "g\n",
            "t\n"
          ]
        }
      ]
    },
    {
      "cell_type": "code",
      "source": [
        "s1 = 'abcdegt'\n",
        "s2 = 'abdhgt'\n",
        "for index in range(len(s1)):\n",
        "  if (s1[index]) in s2:\n",
        "    print(s1[index])"
      ],
      "metadata": {
        "colab": {
          "base_uri": "https://localhost:8080/"
        },
        "id": "VgvYyy25_5ZA",
        "outputId": "0ba51401-1253-49f2-a93b-77512472d94c"
      },
      "execution_count": 25,
      "outputs": [
        {
          "output_type": "stream",
          "name": "stdout",
          "text": [
            "a\n",
            "b\n",
            "d\n",
            "g\n",
            "t\n"
          ]
        }
      ]
    }
  ]
}