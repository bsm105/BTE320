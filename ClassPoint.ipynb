{
  "nbformat": 4,
  "nbformat_minor": 0,
  "metadata": {
    "colab": {
      "provenance": [],
      "authorship_tag": "ABX9TyPH0lKpGvdvSuwA/bMFBpBW",
      "include_colab_link": true
    },
    "kernelspec": {
      "name": "python3",
      "display_name": "Python 3"
    },
    "language_info": {
      "name": "python"
    }
  },
  "cells": [
    {
      "cell_type": "markdown",
      "metadata": {
        "id": "view-in-github",
        "colab_type": "text"
      },
      "source": [
        "<a href=\"https://colab.research.google.com/github/bsm105/BTE320/blob/main/ClassPoint.ipynb\" target=\"_parent\"><img src=\"https://colab.research.google.com/assets/colab-badge.svg\" alt=\"Open In Colab\"/></a>"
      ]
    },
    {
      "cell_type": "code",
      "execution_count": 11,
      "metadata": {
        "id": "ZzyCN8R7FJJp"
      },
      "outputs": [],
      "source": [
        "#Define a Class named Point representing an xy-coordinate point\n",
        "class Point:\n",
        "  def __init__(self, x, y):\n",
        "    self.x = x\n",
        "    self.y = y\n",
        "#create a method named distance which calculates distnace between two coordinate points\n",
        "  def distance(self, other):\n",
        "    x_diff = (self.x - other.x)**2\n",
        "    y_diff = (self.y - other.y)**2\n",
        "    return ((x_diff)+(y_diff))**0.5\n",
        "#use inheritance to define a class for 3 dimensions\n",
        "class Point3D(Point):\n",
        "  def __init__(self, x, y, z): #new constructor overrides old one if we do not connect them\n",
        "    super().__init__(x,y) #calls to parents constructor to connect\n",
        "    self.z = z\n",
        "  def distance(self, other):\n",
        "        x_diff = (self.x - other.x) ** 2\n",
        "        y_diff = (self.y - other.y) ** 2\n",
        "        z_diff = (self.z - other.z) ** 2\n",
        "        return (x_diff + y_diff + z_diff) ** 0.5"
      ]
    },
    {
      "cell_type": "code",
      "source": [
        "p1 = Point(3,4)\n",
        "p2 = Point(6,8)\n",
        "print(p1.distance(p2))"
      ],
      "metadata": {
        "colab": {
          "base_uri": "https://localhost:8080/"
        },
        "id": "Tl6RyT0FILUW",
        "outputId": "49b88252-e715-4058-f36c-94aeb08ee6d9"
      },
      "execution_count": 8,
      "outputs": [
        {
          "output_type": "stream",
          "name": "stdout",
          "text": [
            "5.0\n"
          ]
        }
      ]
    },
    {
      "cell_type": "code",
      "source": [
        "print(p2.distance(p1))"
      ],
      "metadata": {
        "colab": {
          "base_uri": "https://localhost:8080/"
        },
        "id": "1dDoUTgLIRvU",
        "outputId": "41e7fb2e-2e81-4cbd-9ca4-d024519bc0a9"
      },
      "execution_count": 9,
      "outputs": [
        {
          "output_type": "stream",
          "name": "stdout",
          "text": [
            "5.0\n"
          ]
        }
      ]
    },
    {
      "cell_type": "code",
      "source": [
        "\n"
      ],
      "metadata": {
        "id": "TqNYTcQ5IW6I"
      },
      "execution_count": null,
      "outputs": []
    },
    {
      "cell_type": "code",
      "source": [
        "p3 ="
      ],
      "metadata": {
        "id": "1U4RzEJVLvkT"
      },
      "execution_count": null,
      "outputs": []
    }
  ]
}