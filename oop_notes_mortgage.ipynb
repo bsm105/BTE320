{
  "nbformat": 4,
  "nbformat_minor": 0,
  "metadata": {
    "colab": {
      "provenance": [],
      "authorship_tag": "ABX9TyOlqBD7bWsFGvleO+qa8wgP",
      "include_colab_link": true
    },
    "kernelspec": {
      "name": "python3",
      "display_name": "Python 3"
    },
    "language_info": {
      "name": "python"
    }
  },
  "cells": [
    {
      "cell_type": "markdown",
      "metadata": {
        "id": "view-in-github",
        "colab_type": "text"
      },
      "source": [
        "<a href=\"https://colab.research.google.com/github/bsm105/BTE320/blob/main/oop_notes_mortgage.ipynb\" target=\"_parent\"><img src=\"https://colab.research.google.com/assets/colab-badge.svg\" alt=\"Open In Colab\"/></a>"
      ]
    },
    {
      "cell_type": "code",
      "execution_count": null,
      "metadata": {
        "id": "1UhNKtvZ1Xwe"
      },
      "outputs": [],
      "source": [
        "#data = attributes --> what an object is\n",
        "#behavior = methods --> ......can do\n",
        "\n",
        "\n",
        "class Animal:\n",
        "  #this is the constructor method; its used to intialize the instance attributes (AKA Data) of each class instance (AKA objects)\n",
        "  def __init__(self, dims, weight, life_exp):\n",
        "    #set up instance attributes\n",
        "    self.dims = dims\n",
        "    self.weight = weight\n",
        "    self.life_exp = life_exp\n",
        "    self.name = None\n",
        "\n"
      ]
    },
    {
      "cell_type": "code",
      "source": [
        "a = Animal([1,2,3], 10.9, 80)"
      ],
      "metadata": {
        "id": "Dv-HL1oJ_Qwr"
      },
      "execution_count": null,
      "outputs": []
    },
    {
      "cell_type": "code",
      "source": [
        "class Car:\n",
        "  def __init__(self, make, model, year):\n",
        "    self.make = make\n",
        "    self.model = model\n",
        "    self.year = year\n",
        "    self.utility = 'SUV'\n",
        "\n",
        "  def accelerate(self):\n",
        "    print(f'The {self.make} accelerates.')"
      ],
      "metadata": {
        "id": "cAK07cxcDS3_"
      },
      "execution_count": null,
      "outputs": []
    },
    {
      "cell_type": "code",
      "source": [
        "c = Car('Ford', 150, '2023')\n",
        "d = Car('Chevy', 300, '2020')"
      ],
      "metadata": {
        "id": "5CSpHhhQFUOT"
      },
      "execution_count": null,
      "outputs": []
    },
    {
      "cell_type": "code",
      "source": [
        "c.accelerate()"
      ],
      "metadata": {
        "colab": {
          "base_uri": "https://localhost:8080/"
        },
        "id": "TbnDXWWrGvMS",
        "outputId": "d0ff4d36-ed64-46a3-af37-ae592b4eb416"
      },
      "execution_count": null,
      "outputs": [
        {
          "output_type": "stream",
          "name": "stdout",
          "text": [
            "The car accelerates.\n"
          ]
        }
      ]
    },
    {
      "cell_type": "code",
      "source": [
        "class Mortgage:\n",
        "  def __init__(self, iamount, mat, interest):\n",
        "    self.iamount = iamount\n",
        "    self.mat = mat\n",
        "    self.__interest = interest\n",
        "\n",
        "  def __str__(self):\n",
        "    return \"I am an instance of Mortgage\"\n",
        "  def get_interest(self):\n",
        "    return self.__interest\n",
        "\n",
        "  def set_interest(self, newInterest):\n",
        "    if newInterest >=0:\n",
        "      self.__interest = newInterest\n",
        "    else:\n",
        "      print(\"Enter a non-negative interest rate!\")\n",
        "\n",
        "  def monthly_payment_calc(self):\n",
        "    n = self.mat * 12\n",
        "    rate = (self.__interest/100)\n",
        "    mp = self.iamount*(rate*(1+rate)**n)/((1+rate)**n - 1)\n",
        "    print(f'The monthly payment for the mortgage is: {mp}')\n",
        "    return mp"
      ],
      "metadata": {
        "id": "7qteyn9RJBMt"
      },
      "execution_count": 2,
      "outputs": []
    },
    {
      "cell_type": "code",
      "source": [
        "m = Mortgage(100000, 30, 6)\n",
        "m.monthly_payment_calc()"
      ],
      "metadata": {
        "colab": {
          "base_uri": "https://localhost:8080/"
        },
        "id": "h0PVM5n8KM8s",
        "outputId": "b2985876-9a3a-4079-a859-9fa9096028e1"
      },
      "execution_count": 3,
      "outputs": [
        {
          "output_type": "stream",
          "name": "stdout",
          "text": [
            "The monthly payment for the mortgage is: 6000.000004656286\n"
          ]
        },
        {
          "output_type": "execute_result",
          "data": {
            "text/plain": [
              "6000.000004656286"
            ]
          },
          "metadata": {},
          "execution_count": 3
        }
      ]
    },
    {
      "cell_type": "code",
      "source": [
        "m.set_interest(8)"
      ],
      "metadata": {
        "id": "R0dYl1jRQEql"
      },
      "execution_count": 4,
      "outputs": []
    },
    {
      "cell_type": "code",
      "source": [
        "m.monthly_payment_calc()"
      ],
      "metadata": {
        "colab": {
          "base_uri": "https://localhost:8080/"
        },
        "id": "GrUzjsDIQWNA",
        "outputId": "2b9c5aed-49c2-48aa-b4d8-ee592304f0c3"
      },
      "execution_count": 5,
      "outputs": [
        {
          "output_type": "stream",
          "name": "stdout",
          "text": [
            "The monthly payment for the mortgage is: 8000.000000007423\n"
          ]
        },
        {
          "output_type": "execute_result",
          "data": {
            "text/plain": [
              "8000.000000007423"
            ]
          },
          "metadata": {},
          "execution_count": 5
        }
      ]
    }
  ]
}