{
  "nbformat": 4,
  "nbformat_minor": 0,
  "metadata": {
    "colab": {
      "provenance": [],
      "include_colab_link": true
    },
    "kernelspec": {
      "name": "python3",
      "display_name": "Python 3"
    },
    "language_info": {
      "name": "python"
    }
  },
  "cells": [
    {
      "cell_type": "markdown",
      "metadata": {
        "id": "view-in-github",
        "colab_type": "text"
      },
      "source": [
        "<a href=\"https://colab.research.google.com/github/bsm105/BTE320/blob/main/ProblemSet1.ipynb\" target=\"_parent\"><img src=\"https://colab.research.google.com/assets/colab-badge.svg\" alt=\"Open In Colab\"/></a>"
      ]
    },
    {
      "cell_type": "markdown",
      "source": [
        "# Problem Set 2"
      ],
      "metadata": {
        "id": "mqKVIuY-mxNU"
      }
    },
    {
      "cell_type": "markdown",
      "source": [
        "## Assignment 1: Quality Control (7 points)\n",
        "\n",
        "A quality control manager would like to find the average weight of a list of weights. Prior experience indicates that the first two measures are atypical, and the practice is to exclude these from the average calculation.\n",
        "\n",
        "Write a program that calculates the average of a list of numbers that given as inputs from the user, excluding the first three values.\n",
        "\n",
        "For your program, you must define and use the following functions:\n",
        "- `getValues(n)`: Prompt the user for `n` values, returns the list\n",
        "- `calcAverage(alist)`: Calculates the average from the list"
      ],
      "metadata": {
        "id": "-RSYW1jVm08n"
      }
    },
    {
      "cell_type": "code",
      "execution_count": 23,
      "metadata": {
        "id": "AqbgJkgNmvQw"
      },
      "outputs": [],
      "source": [
        "def getValues(n):\n",
        "  values = []\n",
        "  for i in range(n):\n",
        "        weight = float(input(f\"Enter weight: \"))\n",
        "        values.append(weight)\n",
        "  return values[2:]\n"
      ]
    },
    {
      "cell_type": "code",
      "source": [
        "def calcAverage(alist):\n",
        "     average = sum(alist) / len(alist)\n",
        "     return average"
      ],
      "metadata": {
        "id": "qdQiL5pXtB0-"
      },
      "execution_count": 24,
      "outputs": []
    },
    {
      "cell_type": "code",
      "source": [
        "n = int(input(\"How many weights would you like to enter? \"))\n",
        "result = getValues(n)\n",
        "average = calcAverage(result)\n",
        "print(f\"The average of weight is: {average}\")"
      ],
      "metadata": {
        "colab": {
          "base_uri": "https://localhost:8080/"
        },
        "id": "AsBg0-dKtChR",
        "outputId": "1a98626e-36cd-47dd-ba6e-061de0a307ea"
      },
      "execution_count": 25,
      "outputs": [
        {
          "output_type": "stream",
          "name": "stdout",
          "text": [
            "How many weights would you like to enter? 6\n",
            "Enter weight: 1\n",
            "Enter weight: 1\n",
            "Enter weight: 1\n",
            "Enter weight: 2\n",
            "Enter weight: 2\n",
            "Enter weight: 2\n",
            "The average of weight is: 1.75\n"
          ]
        }
      ]
    },
    {
      "cell_type": "markdown",
      "source": [
        "## Assignment 2: Country Statistics Lookup-Multiple Measures (6 points)\n",
        "\n",
        "Assume a program begins with the statement:\n",
        "\n",
        "```python\n",
        "allData = { # dictionary of values for countries\n",
        "    'US': {'pop':325.7, 'gdp': 19.39, 'ccy': 'USD', 'fx':  1.0},\n",
        "    'CA': {'pop': 36.5, 'gdp':  1.65, 'ccy': 'CAD', 'fx':  1.35},\n",
        "    'MX': {'pop':129.2, 'gdp':  1.15, 'ccy': 'MXN', 'fx': 19.68}\n",
        "    }\n",
        "```\n",
        "\n",
        "Write subsequent statements that (in a loop) prompt the user for a country code (`US`, `CA`, or `MX`), then prompt for a measure name (`pop`, `gdp`, `ccy`, or `fx`), then look up in the above dictionary for the corresponding value, and display it.\n",
        "\n",
        "Example run:\n",
        "```\n",
        "Please enter a country code: CA\n",
        "Please enter a statistic: pop\n",
        "CA pop = 36.5\n",
        "```\n",
        "\n",
        "Your program should handle the cases where a user-entered country code or measure name is not found."
      ],
      "metadata": {
        "id": "QFO0Kzx8ncnv"
      }
    },
    {
      "cell_type": "code",
      "source": [
        "allData = { # dictionary of values for countries\n",
        "    'US': {'pop':325.7, 'gdp': 19.39, 'ccy': 'USD', 'fx':  1.0},\n",
        "    'CA': {'pop': 36.5, 'gdp':  1.65, 'ccy': 'CAD', 'fx':  1.35},\n",
        "    'MX': {'pop':129.2, 'gdp':  1.15, 'ccy': 'MXN', 'fx': 19.68}\n",
        "}\n",
        "\n",
        "while True:\n",
        "  country_code = input(\"Please enter a country code: \")\n",
        "  stats = allData[country_code]\n",
        "  if country_code not in allData.keys():\n",
        "    continue\n",
        "\n",
        "  statistic = input(\"Please enter a statistic: \")\n",
        "  if statistic not in allData[country_code].keys():\n",
        "    continue\n",
        "\n",
        "  if statistic == 'pop':\n",
        "    print(f'The population for {country_code} is {allData[country_code][statistic]} million')\n",
        "\n",
        "  elif statistic == 'gdp':\n",
        "    print(f'The GDP for {country_code} is ${allData[country_code][statistic]} Trillion')\n",
        "\n",
        "  elif statistic == 'ccy':\n",
        "    print(f'The currency for {country_code} is ${allData[country_code][statistic]}')\n",
        "\n",
        "  else:\n",
        "    print(f'The FX for {country_code} is ${allData[country_code][statistic]}')\n",
        "\n",
        "  break"
      ],
      "metadata": {
        "id": "NZFjRINKowEW",
        "colab": {
          "base_uri": "https://localhost:8080/"
        },
        "outputId": "96dc294b-fa3f-42aa-a37d-20733a25ef32"
      },
      "execution_count": 18,
      "outputs": [
        {
          "output_type": "stream",
          "name": "stdout",
          "text": [
            "Please enter a country code: CA\n",
            "Please enter a statistic: gdp\n",
            "The GDP for CA is $36.5 Trillion\n"
          ]
        }
      ]
    },
    {
      "cell_type": "markdown",
      "source": [
        "## Assignment 3: Parking Garage (6 points)\n",
        "\n",
        "Write a program to compute the fee for parking in a garage for a number of hours.\n",
        "\n",
        "The program should:\n",
        "- Prompt the user for how many hours parked\n",
        "- Calculate the fee based on the following rules:\n",
        "  - $2.50/hour\n",
        "\n",
        "  - minimum fee is $6.00\n",
        "\n",
        "  - maximum fee is $20.00\n",
        "- Print the result\n",
        "\n",
        "For your program, define and use the following two functions:\n",
        "```python\n",
        "# use input() to prompt for the # of hours parked, return this value\n",
        "def getParkingHours()\n",
        "\n",
        "# takes as input hours (a number), returns the parking fee\n",
        "def calcParkingFee()\n",
        "```"
      ],
      "metadata": {
        "id": "GjaUFrnfpKFf"
      }
    },
    {
      "cell_type": "code",
      "source": [
        "def getParkingHours():\n",
        "  return float(input(\"How many hours did you park? \"))"
      ],
      "metadata": {
        "id": "5ha4O3V5pwNN"
      },
      "execution_count": null,
      "outputs": []
    },
    {
      "cell_type": "code",
      "source": [
        "def calcParkingFee(hours):\n",
        "  if hours * 2.5 < 6:\n",
        "    return 6\n",
        "  elif hours * 2.5 > 20:\n",
        "    return 20\n",
        "  else:\n",
        "    return hours * 2.5"
      ],
      "metadata": {
        "id": "f7ZNxzN6yjQL"
      },
      "execution_count": null,
      "outputs": []
    },
    {
      "cell_type": "code",
      "source": [
        "\n",
        "hours = getParkingHours()\n",
        "fee = calcParkingFee(hours)\n",
        "print(f\"Charge: ${fee}\")"
      ],
      "metadata": {
        "id": "qvROIBxpzONK",
        "colab": {
          "base_uri": "https://localhost:8080/"
        },
        "outputId": "bdb9a39b-a73f-43c2-e024-0e14b87d8424"
      },
      "execution_count": null,
      "outputs": [
        {
          "output_type": "stream",
          "name": "stdout",
          "text": [
            "How many hours did you park? 6\n",
            "Charge: $15.0\n"
          ]
        }
      ]
    },
    {
      "cell_type": "markdown",
      "source": [
        "## Assignment 4: Tuition (6 points)\n",
        "\n",
        "A college charges tuition according to the following:\n",
        "- 12 or more credits: $20,000/semester\n",
        "\n",
        "- 1-11 credits: $1,200 + $1,700 per credit\n",
        "\n",
        "Write a program that prompts the user for a number of credits and determines and displays the tuition for the semester. As part of your program, define and use the following function:\n",
        "```python\n",
        "def calcTuition(credits)\n",
        "```\n",
        "The function returns the tuition for a given number of credits"
      ],
      "metadata": {
        "id": "gipBObe5qm-2"
      }
    },
    {
      "cell_type": "code",
      "source": [
        "def calcTuition(credits):\n",
        "    total = 0\n",
        "    if credits > 11:\n",
        "        total = 20000\n",
        "    elif credits < 12 and credits > 0:\n",
        "        total = 1200 + (credits * 1700)\n",
        "    else:\n",
        "        return \"invalid number of credits\"\n",
        "    return total\n",
        "\n",
        "credits = int(input('How many credits do you plan to take? '))\n",
        "tuition = calcTuition(credits)\n",
        "print(f\"The tuition for {credits} credits is ${tuition}\")\n"
      ],
      "metadata": {
        "id": "BPcn9ywzrL8y",
        "colab": {
          "base_uri": "https://localhost:8080/"
        },
        "outputId": "74e72148-4c90-4a01-e47b-b7eb63305967"
      },
      "execution_count": 28,
      "outputs": [
        {
          "output_type": "stream",
          "name": "stdout",
          "text": [
            "How many credits do you plan to take? 10\n",
            "The tuition for 10 credits is $18200\n"
          ]
        }
      ]
    }
  ]
}