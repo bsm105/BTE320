{
  "nbformat": 4,
  "nbformat_minor": 0,
  "metadata": {
    "colab": {
      "provenance": [],
      "authorship_tag": "ABX9TyN85WPlrxLh4DFTuNQ2AhqR",
      "include_colab_link": true
    },
    "kernelspec": {
      "name": "python3",
      "display_name": "Python 3"
    },
    "language_info": {
      "name": "python"
    }
  },
  "cells": [
    {
      "cell_type": "markdown",
      "metadata": {
        "id": "view-in-github",
        "colab_type": "text"
      },
      "source": [
        "<a href=\"https://colab.research.google.com/github/bsm105/BTE320/blob/main/leapyear.ipynb\" target=\"_parent\"><img src=\"https://colab.research.google.com/assets/colab-badge.svg\" alt=\"Open In Colab\"/></a>"
      ]
    },
    {
      "cell_type": "code",
      "execution_count": null,
      "metadata": {
        "id": "rCLzZ4M91Hs_"
      },
      "outputs": [],
      "source": [
        "#Leap Year\n",
        "\n",
        "user_input = int(input(f'Year (int): '))\n",
        "\n",
        "if(user_input % 4 == 0 and user_input % 100 != 0) or user_input % 400 == 0:\n",
        "  print(\"That's a Leap Year!\")\n",
        "else:\n",
        "  print(\"That's not a Leap Year\")"
      ]
    }
  ]
}