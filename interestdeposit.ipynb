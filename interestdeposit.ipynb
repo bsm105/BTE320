{
  "nbformat": 4,
  "nbformat_minor": 0,
  "metadata": {
    "colab": {
      "provenance": [],
      "authorship_tag": "ABX9TyMoK+4X7XcUindSUopEqVVT",
      "include_colab_link": true
    },
    "kernelspec": {
      "name": "python3",
      "display_name": "Python 3"
    },
    "language_info": {
      "name": "python"
    }
  },
  "cells": [
    {
      "cell_type": "markdown",
      "metadata": {
        "id": "view-in-github",
        "colab_type": "text"
      },
      "source": [
        "<a href=\"https://colab.research.google.com/github/bsm105/BTE320/blob/main/interestdeposit.ipynb\" target=\"_parent\"><img src=\"https://colab.research.google.com/assets/colab-badge.svg\" alt=\"Open In Colab\"/></a>"
      ]
    },
    {
      "cell_type": "code",
      "execution_count": 2,
      "metadata": {
        "colab": {
          "base_uri": "https://localhost:8080/"
        },
        "id": "xvkKNU7iD7_B",
        "outputId": "59a11b87-b73b-4b22-bd60-ca4e992c6b5b"
      },
      "outputs": [
        {
          "output_type": "stream",
          "name": "stdout",
          "text": [
            "Enter customer type (N = New; E = Existing): E\n",
            "Enter deposit amount: 500\n",
            "The total amount including interest is: $515.0\n"
          ]
        }
      ],
      "source": [
        "customer_type = input('Enter customer type (N = New; E = Existing): ')\n",
        "deposit = float(input('Enter deposit amount: '))\n",
        "\n",
        "if customer_type == \"E\":\n",
        "  if deposit > 1000:\n",
        "    r = 3.5\n",
        "  elif deposit > 1000:\n",
        "    r = 3.25\n",
        "  else:\n",
        "    r = 3\n",
        "else:\n",
        "  r = 3\n",
        "\n",
        "total = (1+ (r/100))* deposit\n",
        "print(f'The total amount including interest is: ${round(total,2)}')\n",
        ""
      ]
    }
  ]
}