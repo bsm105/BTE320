{
  "nbformat": 4,
  "nbformat_minor": 0,
  "metadata": {
    "colab": {
      "provenance": [],
      "authorship_tag": "ABX9TyOYqAd3zWMZ91R9M1NAzVhG",
      "include_colab_link": true
    },
    "kernelspec": {
      "name": "python3",
      "display_name": "Python 3"
    },
    "language_info": {
      "name": "python"
    }
  },
  "cells": [
    {
      "cell_type": "markdown",
      "metadata": {
        "id": "view-in-github",
        "colab_type": "text"
      },
      "source": [
        "<a href=\"https://colab.research.google.com/github/bsm105/BTE320/blob/main/oop_notes.ipynb\" target=\"_parent\"><img src=\"https://colab.research.google.com/assets/colab-badge.svg\" alt=\"Open In Colab\"/></a>"
      ]
    },
    {
      "cell_type": "code",
      "execution_count": 1,
      "metadata": {
        "id": "1UhNKtvZ1Xwe"
      },
      "outputs": [],
      "source": [
        "#data = attributes --> what an object is\n",
        "#behavior = methods --> ......can do\n",
        "\n",
        "\n",
        "class Animal:\n",
        "  #this is the constructor method; its used to intialize the instance attributes (AKA Data) of each class instance (AKA objects)\n",
        "  def __init__(self, dims, weight, life_exp):\n",
        "    #set up instance attributes\n",
        "    self.dims = dims\n",
        "    self.weight = weight\n",
        "    self.life_exp = life_exp\n",
        "    self.name = None\n",
        "\n"
      ]
    },
    {
      "cell_type": "code",
      "source": [
        "a = Animal([1,2,3], 10.9, 80)"
      ],
      "metadata": {
        "id": "Dv-HL1oJ_Qwr"
      },
      "execution_count": 2,
      "outputs": []
    }
  ]
}