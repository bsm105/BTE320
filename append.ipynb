{
  "nbformat": 4,
  "nbformat_minor": 0,
  "metadata": {
    "colab": {
      "provenance": [],
      "authorship_tag": "ABX9TyM7OCkxT8mkNGrlU77Znel4",
      "include_colab_link": true
    },
    "kernelspec": {
      "name": "python3",
      "display_name": "Python 3"
    },
    "language_info": {
      "name": "python"
    }
  },
  "cells": [
    {
      "cell_type": "markdown",
      "metadata": {
        "id": "view-in-github",
        "colab_type": "text"
      },
      "source": [
        "<a href=\"https://colab.research.google.com/github/bsm105/BTE320/blob/main/append.ipynb\" target=\"_parent\"><img src=\"https://colab.research.google.com/assets/colab-badge.svg\" alt=\"Open In Colab\"/></a>"
      ]
    },
    {
      "cell_type": "code",
      "execution_count": 4,
      "metadata": {
        "colab": {
          "base_uri": "https://localhost:8080/"
        },
        "id": "lDaSeXBfA3KP",
        "outputId": "28d3cb30-fecf-42e5-ad02-04796323de34"
      },
      "outputs": [
        {
          "output_type": "stream",
          "name": "stdout",
          "text": [
            "Enter a value: 1\n",
            "Enter a value: 8\n",
            "Enter a value: 0\n",
            "[1, 8]\n"
          ]
        }
      ],
      "source": [
        "#program repeats asking for inputs and appends to code until user inputs zero\n",
        "L = []\n",
        "number = int(input('Enter a value: '))\n",
        "while number != 0:\n",
        "   L.append(number)\n",
        "   number = int(input('Enter a value: '))\n",
        "print(L)"
      ]
    }
  ]
}